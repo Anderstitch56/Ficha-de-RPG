{
  "nbformat": 4,
  "nbformat_minor": 0,
  "metadata": {
    "colab": {
      "provenance": [],
      "collapsed_sections": [],
      "authorship_tag": "ABX9TyPlnEKOWS/npYBTFg1sfE1j",
      "include_colab_link": true
    },
    "kernelspec": {
      "name": "python3",
      "display_name": "Python 3"
    },
    "language_info": {
      "name": "python"
    }
  },
  "cells": [
    {
      "cell_type": "markdown",
      "metadata": {
        "id": "view-in-github",
        "colab_type": "text"
      },
      "source": [
        "<a href=\"https://colab.research.google.com/github/Anderstitch56/Ficha-de-RPG/blob/main/Untitled2.ipynb\" target=\"_parent\"><img src=\"https://colab.research.google.com/assets/colab-badge.svg\" alt=\"Open In Colab\"/></a>"
      ]
    },
    {
      "cell_type": "code",
      "execution_count": null,
      "metadata": {
        "id": "zBn220NoPl-h"
      },
      "outputs": [],
      "source": [
        "import time\n",
        "import random\n",
        "import os\n",
        "conta = 0\n",
        "\n",
        "print (\"Criador de ficha de RPG\")\n",
        "\n",
        "print (\"Escolha sua classe\")\n",
        "print(\"\")\n",
        "classe = str (input (\"-> \"))\n",
        "print (\"\")\n",
        "\n",
        "print (\"qual o nome do grande Herói/heroína ?\")\n",
        "nome = str (input (\"-> \"))\n",
        "\n",
        "time.sleep(0.5)\n",
        "print (\"escolha seu local de origem\")\n",
        "reino = int (input (\"Reino do norte (1) \\nReino Aurora Boreal (2) \\nPantanos de Glarquem (3) \\n-> \"))\n",
        "if reino >= 4:\n",
        "    while reino >= 4:\n",
        "        print (\"\")\n",
        "        print (\"\")\n",
        "        print (\"escolha seu local de origem\")\n",
        "        reino = int (input (\"Reino do norte (1) \\nReino Aurora Boreal (2) \\nPantanos de Glarquem (3) \\n-> \"))\n",
        "        conta += 1\n",
        "        if conta == 4:\n",
        "            print (\"\")\n",
        "            print (\"PARA DE GRAÇA CARAI FAÇA CERTO... \\nescolha seu local de origem\")\n",
        "            reino = int (input (\"Reino do norte (1) \\nReino Aurora Boreal (2) \\nPantanos de Glarquem (3) \\n-> \"))\n",
        "\n",
        "       \n",
        "print(\"\")\n",
        "print (\"Descreva sua arma\")\n",
        "arma = str (input (\"->\" ))\n",
        "print(\"\")\n",
        "print (\"sua idade \")\n",
        "idade = int (input (\"-> \"))\n",
        "\n",
        "os.system(\"clear\")\n",
        "time.sleep(1.0)\n",
        "print (\"ficha completa\")\n",
        "time.sleep(0.5)\n",
        "print (\"\")\n",
        "print (\"Nome: \", nome)\n",
        "time.sleep(0.5)\n",
        "print(\"\")\n",
        "print (\"classe: \", classe)\n",
        "time.sleep(0.5)\n",
        "print (\"\")\n",
        "print (\"idade: \", idade)\n",
        "time.sleep(0.5)\n",
        "print (\"\")\n",
        "if reino == 1:\n",
        "    print (\"Local de origem: Reino do norte\")\n",
        "elif reino == 2:\n",
        "    print (\"local de origem: Reino Aurora Boreal\")\n",
        "else:\n",
        "    print (\"local de origem: Pantanos de Glarquem\")\n",
        "print (\"\")\n",
        "time.sleep(0.5)\n",
        "print (\"Arma: \", arma)\n",
        "print(\"\")\n",
        "time.sleep(0.5)\n",
        "print (\"quantidade de ouro \")\n",
        "print (random.randint (0,100))\n",
        "time.sleep (1.5)\n",
        "\n",
        "print (\"\")\n",
        "print (\"Força\")\n",
        "print (random.randint(0,20))\n",
        "\n",
        "print (\"\")\n",
        "time.sleep (1.5)\n",
        "print (\"agilidade\")\n",
        "print (random.randint(0,20))"
      ]
    }
  ]
}